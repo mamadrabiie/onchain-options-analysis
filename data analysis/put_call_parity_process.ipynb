{
 "cells": [
  {
   "cell_type": "code",
   "execution_count": null,
   "metadata": {},
   "outputs": [],
   "source": [
    "import pandas as pd\n",
    "import numpy as np\n",
    "import mibian\n",
    "import matplotlib.pyplot as plt\n",
    "import seaborn as sns"
   ]
  },
  {
   "cell_type": "code",
   "execution_count": null,
   "metadata": {},
   "outputs": [],
   "source": [
    "def preprocess(df):\n",
    "    df['date'] = pd.to_datetime(df['date'])\n",
    "    df.sort_values(by=['date'], inplace=True)\n",
    "    return df\n",
    "\n",
    "eth = preprocess(pd.read_csv('../data processing/deribit lyra comparison/eth.csv'))\n",
    "btc = preprocess(pd.read_csv('../data processing/deribit lyra comparison/btc.csv'))"
   ]
  },
  {
   "cell_type": "code",
   "execution_count": null,
   "metadata": {},
   "outputs": [],
   "source": [
    "def create_put_call_parity(dataset, time_delta_in_minutes):\n",
    "    dataset.reset_index(drop=True, inplace=True)\n",
    "    dataset['datetime'] = pd.to_datetime(dataset['datetime'], format='%Y-%m-%d %H:%M:%S')\n",
    "\n",
    "    # Filter calls and puts into separate DataFrames\n",
    "    calls = dataset[dataset['type'] == 'call'].copy()\n",
    "    puts = dataset[dataset['type'] == 'put'].copy()\n",
    "    # We ned to ensure data is sorted by datetime for the merge_asof to work effectively\n",
    "    calls = calls.sort_values(by='datetime')\n",
    "    puts = puts.sort_values(by='datetime')\n",
    "\n",
    "    # Use merge_asof to find matching entries within a 5-minute window\n",
    "    # merge_asof is used here because it's designed for time series data where exact matches are not necessary\n",
    "    # 'direction': 'nearest' matches to the nearest key within the limit (5 min here)\n",
    "    merged = pd.merge_asof(calls, puts, on='datetime', by=['strike', 'expiry'],\n",
    "                        suffixes=('_call', '_put'),\n",
    "                        tolerance=pd.Timedelta(f'{time_delta_in_minutes} minutes'),\n",
    "                        direction='nearest')\n",
    "\n",
    "    # Filter out pairs where calls and puts are not from the same time frame within the 5-minute limit\n",
    "    merged = merged.dropna(subset=['type_put'])  # This assumes that the merge resulted in some NaNs for non-matching rows\n",
    "\n",
    "    # Reset index if necessary\n",
    "    merged.reset_index(drop=True, inplace=True)\n",
    "    # Display the merged DataFrame\n",
    "    return merged\n",
    "\n",
    "eth = create_put_call_parity(eth, 30)"
   ]
  },
  {
   "cell_type": "code",
   "execution_count": null,
   "metadata": {},
   "outputs": [],
   "source": [
    "# Put-call parity formula: C - P = S - K * e^(-rT)\n",
    "\n",
    "def calculate_put_call_disparities(dataset):\n",
    "    # merged['interest_rate_call'] = merged['interest_rate_call'] / 100\n",
    "    # Calculate the theoretical parity and the actual disparity\n",
    "    dataset['theoretical_parity'] = dataset['selected_spot_price_call'] - dataset['strike'] * np.exp(-dataset['interest_rate_call'] * dataset['time_to_maturity_call'] / 100)\n",
    "    dataset['observed_difference'] = abs(dataset['lyra_price_call']) - abs(dataset['lyra_price_put'])\n",
    "    dataset['observed_difference_deribit'] = abs(dataset[f'selected_deribit_price_call']) - abs(dataset[f'selected_deribit_price_put'])\n",
    "\n",
    "    dataset['disparity'] = dataset['observed_difference'] - dataset['theoretical_parity']\n",
    "    dataset['deribit_disparity'] = dataset['observed_difference_deribit'] - dataset['theoretical_parity']\n",
    "\n",
    "\n",
    "    discrepancies = dataset[['datetime', 'expiry', 'strike', 'observed_difference', 'observed_difference_deribit', 'theoretical_parity', 'disparity', 'deribit_disparity', 'selected_spot_price_call', 'interest_rate_call', 'time_to_maturity_call', 'lyra_price_call', 'lyra_price_put', 'lyra_IV_call', 'lyra_IV_put', 'selected_deribit_IV_call', 'selected_deribit_IV_put', 'selected_deribit_price_call', 'selected_deribit_price_put']]\n",
    "    discrepancies.columns = ['trade_time', 'expiry', 'strike', 'C-P', 'Deribit-C-P', 'S-Ke^-rT', 'disparity', 'deribit_disparity', 'S', 'r', 'T', 'C', 'P', 'C_IV', 'P_IV', 'Deribit_C_IV', 'Deribit_P_IV', 'Deribit_C', 'Deribit_P']\n",
    "    return discrepancies\n",
    "\n",
    "put_call_parity_eth = calculate_put_call_disparities(eth)\n",
    "put_call_parity_eth.to_csv('../data processing/put call parity/eth_put_call_parity.csv', index=False)"
   ]
  }
 ],
 "metadata": {
  "kernelspec": {
   "display_name": "Python 3.11.3 ('base')",
   "language": "python",
   "name": "python3"
  },
  "language_info": {
   "codemirror_mode": {
    "name": "ipython",
    "version": 3
   },
   "file_extension": ".py",
   "mimetype": "text/x-python",
   "name": "python",
   "nbconvert_exporter": "python",
   "pygments_lexer": "ipython3",
   "version": "3.10.12"
  },
  "orig_nbformat": 4,
  "vscode": {
   "interpreter": {
    "hash": "3c06e3e46abf38078fe4dac36a0085ec2b134ebbd73dd076183d243eeca6918f"
   }
  }
 },
 "nbformat": 4,
 "nbformat_minor": 2
}
